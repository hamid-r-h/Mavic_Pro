{
  "nbformat": 4,
  "nbformat_minor": 0,
  "metadata": {
    "colab": {
      "provenance": [],
      "gpuType": "T4"
    },
    "kernelspec": {
      "name": "python3",
      "display_name": "Python 3"
    },
    "language_info": {
      "name": "python"
    },
    "accelerator": "GPU"
  },
  "cells": [
    {
      "cell_type": "code",
      "source": [
        "import numpy as np\n",
        "from PIL import Image\n",
        "import matplotlib.pyplot as plt\n",
        "import pandas as pd\n",
        "import cv2\n",
        "from tensorflow.keras import layers, models\n",
        "from keras.utils import to_categorical\n",
        "from sklearn.model_selection import train_test_split"
      ],
      "metadata": {
        "id": "idklaTnIy47E"
      },
      "execution_count": 22,
      "outputs": []
    },
    {
      "cell_type": "code",
      "execution_count": 2,
      "metadata": {
        "colab": {
          "base_uri": "https://localhost:8080/"
        },
        "id": "Cgcq3m3Gvy4o",
        "outputId": "a39927e4-0920-4c2e-ac6e-ee05a57f1eee"
      },
      "outputs": [
        {
          "output_type": "stream",
          "name": "stdout",
          "text": [
            "Mounted at drive\n"
          ]
        }
      ],
      "source": [
        "from google.colab import drive\n",
        "drive.mount('drive')"
      ]
    },
    {
      "cell_type": "code",
      "source": [
        "train_df = pd.read_csv('drive/MyDrive/Colab Notebooks/train.csv')\n",
        "test_df = pd.read_csv('drive/MyDrive/Colab Notebooks/test.csv')"
      ],
      "metadata": {
        "id": "eDoGoUeDzFrt"
      },
      "execution_count": 3,
      "outputs": []
    },
    {
      "cell_type": "markdown",
      "source": [
        "train data"
      ],
      "metadata": {
        "id": "bC14yljppGY9"
      }
    },
    {
      "cell_type": "code",
      "source": [
        "train_y = train_df.iloc[:, 0]\n",
        "train_y = to_categorical(train_y, num_classes=5)\n",
        "train_x = train_df.iloc[:, 1:]\n",
        "train_x = train_x / 255.0\n",
        "train_x = train_x.to_numpy()\n",
        "num_of_images = len(train_x)\n",
        "train_x = train_x.reshape((num_of_images, 28, 28))"
      ],
      "metadata": {
        "id": "-HlOsh6niyOI"
      },
      "execution_count": 23,
      "outputs": []
    },
    {
      "cell_type": "markdown",
      "source": [
        "test data"
      ],
      "metadata": {
        "id": "zLAzFN82rV6R"
      }
    },
    {
      "cell_type": "code",
      "source": [
        "test_y = test_df.iloc[:, 0]\n",
        "test_y = to_categorical(test_y, num_classes=5)\n",
        "test_x = test_df.iloc[:, 1:]\n",
        "test_x = test_x / 255.0\n",
        "test_x = test_x.to_numpy()\n",
        "num_of_test_images = len(test_x)\n",
        "test_x = test_x.reshape((num_of_test_images, 28, 28))"
      ],
      "metadata": {
        "id": "4EeHKfSxrXvV"
      },
      "execution_count": 31,
      "outputs": []
    },
    {
      "cell_type": "code",
      "source": [
        "# CNN\n",
        "model = models.Sequential()\n",
        "\n",
        "model.add(layers.Conv2D(32, (3, 3), activation='relu', input_shape=(28, 28, 1)))\n",
        "model.add(layers.Conv2D(32, (3, 3), activation='relu'))\n",
        "model.add(layers.MaxPooling2D((2, 2)))\n",
        "\n",
        "model.add(layers.Conv2D(64, (3, 3), activation='relu'))\n",
        "model.add(layers.MaxPooling2D((2, 2)))\n",
        "\n",
        "model.add(layers.Conv2D(64, (3, 3), activation='relu'))\n",
        "\n",
        "model.add(layers.Flatten())\n",
        "model.add(layers.Dense(64, activation='relu'))\n",
        "model.add(layers.Dense(5, activation='softmax'))"
      ],
      "metadata": {
        "id": "KdAFvoxBkrzS"
      },
      "execution_count": 25,
      "outputs": []
    },
    {
      "cell_type": "code",
      "source": [
        "model.compile(optimizer='adam', loss='categorical_crossentropy', metrics=['accuracy'])"
      ],
      "metadata": {
        "id": "9xvOXfcWpk41"
      },
      "execution_count": 26,
      "outputs": []
    },
    {
      "cell_type": "code",
      "source": [
        "history = model.fit(train_x, train_y, epochs=50, validation_split=0.05)"
      ],
      "metadata": {
        "colab": {
          "base_uri": "https://localhost:8080/"
        },
        "id": "2C_X1xObpm4G",
        "outputId": "c826469b-1611-40ec-cc67-3274f99dd994"
      },
      "execution_count": 27,
      "outputs": [
        {
          "output_type": "stream",
          "name": "stdout",
          "text": [
            "Epoch 1/50\n",
            "891/891 [==============================] - 10s 6ms/step - loss: 0.1597 - accuracy: 0.9507 - val_loss: 0.0903 - val_accuracy: 0.9753\n",
            "Epoch 2/50\n",
            "891/891 [==============================] - 4s 4ms/step - loss: 0.0744 - accuracy: 0.9755 - val_loss: 0.0648 - val_accuracy: 0.9800\n",
            "Epoch 3/50\n",
            "891/891 [==============================] - 4s 5ms/step - loss: 0.0609 - accuracy: 0.9807 - val_loss: 0.0690 - val_accuracy: 0.9773\n",
            "Epoch 4/50\n",
            "891/891 [==============================] - 5s 5ms/step - loss: 0.0513 - accuracy: 0.9839 - val_loss: 0.0614 - val_accuracy: 0.9833\n",
            "Epoch 5/50\n",
            "891/891 [==============================] - 4s 4ms/step - loss: 0.0446 - accuracy: 0.9846 - val_loss: 0.0521 - val_accuracy: 0.9833\n",
            "Epoch 6/50\n",
            "891/891 [==============================] - 4s 5ms/step - loss: 0.0380 - accuracy: 0.9866 - val_loss: 0.0562 - val_accuracy: 0.9840\n",
            "Epoch 7/50\n",
            "891/891 [==============================] - 5s 5ms/step - loss: 0.0331 - accuracy: 0.9885 - val_loss: 0.0642 - val_accuracy: 0.9847\n",
            "Epoch 8/50\n",
            "891/891 [==============================] - 4s 5ms/step - loss: 0.0298 - accuracy: 0.9892 - val_loss: 0.0626 - val_accuracy: 0.9847\n",
            "Epoch 9/50\n",
            "891/891 [==============================] - 4s 5ms/step - loss: 0.0271 - accuracy: 0.9906 - val_loss: 0.0586 - val_accuracy: 0.9840\n",
            "Epoch 10/50\n",
            "891/891 [==============================] - 5s 5ms/step - loss: 0.0213 - accuracy: 0.9925 - val_loss: 0.0639 - val_accuracy: 0.9867\n",
            "Epoch 11/50\n",
            "891/891 [==============================] - 4s 5ms/step - loss: 0.0213 - accuracy: 0.9927 - val_loss: 0.0605 - val_accuracy: 0.9867\n",
            "Epoch 12/50\n",
            "891/891 [==============================] - 4s 5ms/step - loss: 0.0206 - accuracy: 0.9928 - val_loss: 0.0652 - val_accuracy: 0.9860\n",
            "Epoch 13/50\n",
            "891/891 [==============================] - 5s 5ms/step - loss: 0.0174 - accuracy: 0.9941 - val_loss: 0.0904 - val_accuracy: 0.9840\n",
            "Epoch 14/50\n",
            "891/891 [==============================] - 4s 5ms/step - loss: 0.0143 - accuracy: 0.9950 - val_loss: 0.0829 - val_accuracy: 0.9880\n",
            "Epoch 15/50\n",
            "891/891 [==============================] - 4s 5ms/step - loss: 0.0140 - accuracy: 0.9951 - val_loss: 0.0958 - val_accuracy: 0.9867\n",
            "Epoch 16/50\n",
            "891/891 [==============================] - 6s 6ms/step - loss: 0.0152 - accuracy: 0.9950 - val_loss: 0.0990 - val_accuracy: 0.9867\n",
            "Epoch 17/50\n",
            "891/891 [==============================] - 4s 5ms/step - loss: 0.0126 - accuracy: 0.9953 - val_loss: 0.0818 - val_accuracy: 0.9853\n",
            "Epoch 18/50\n",
            "891/891 [==============================] - 5s 5ms/step - loss: 0.0114 - accuracy: 0.9959 - val_loss: 0.0796 - val_accuracy: 0.9853\n",
            "Epoch 19/50\n",
            "891/891 [==============================] - 5s 6ms/step - loss: 0.0103 - accuracy: 0.9966 - val_loss: 0.0851 - val_accuracy: 0.9860\n",
            "Epoch 20/50\n",
            "891/891 [==============================] - 5s 5ms/step - loss: 0.0115 - accuracy: 0.9965 - val_loss: 0.1064 - val_accuracy: 0.9853\n",
            "Epoch 21/50\n",
            "891/891 [==============================] - 6s 7ms/step - loss: 0.0087 - accuracy: 0.9970 - val_loss: 0.0868 - val_accuracy: 0.9873\n",
            "Epoch 22/50\n",
            "891/891 [==============================] - 5s 5ms/step - loss: 0.0087 - accuracy: 0.9968 - val_loss: 0.1178 - val_accuracy: 0.9827\n",
            "Epoch 23/50\n",
            "891/891 [==============================] - 4s 5ms/step - loss: 0.0080 - accuracy: 0.9974 - val_loss: 0.1303 - val_accuracy: 0.9880\n",
            "Epoch 24/50\n",
            "891/891 [==============================] - 6s 7ms/step - loss: 0.0077 - accuracy: 0.9972 - val_loss: 0.0940 - val_accuracy: 0.9867\n",
            "Epoch 25/50\n",
            "891/891 [==============================] - 4s 5ms/step - loss: 0.0069 - accuracy: 0.9981 - val_loss: 0.0972 - val_accuracy: 0.9860\n",
            "Epoch 26/50\n",
            "891/891 [==============================] - 5s 5ms/step - loss: 0.0080 - accuracy: 0.9970 - val_loss: 0.1057 - val_accuracy: 0.9873\n",
            "Epoch 27/50\n",
            "891/891 [==============================] - 6s 7ms/step - loss: 0.0070 - accuracy: 0.9975 - val_loss: 0.1112 - val_accuracy: 0.9873\n",
            "Epoch 28/50\n",
            "891/891 [==============================] - 5s 6ms/step - loss: 0.0106 - accuracy: 0.9969 - val_loss: 0.0659 - val_accuracy: 0.9873\n",
            "Epoch 29/50\n",
            "891/891 [==============================] - 5s 5ms/step - loss: 0.0041 - accuracy: 0.9988 - val_loss: 0.1084 - val_accuracy: 0.9867\n",
            "Epoch 30/50\n",
            "891/891 [==============================] - 4s 5ms/step - loss: 0.0067 - accuracy: 0.9980 - val_loss: 0.1094 - val_accuracy: 0.9873\n",
            "Epoch 31/50\n",
            "891/891 [==============================] - 4s 5ms/step - loss: 0.0035 - accuracy: 0.9988 - val_loss: 0.1764 - val_accuracy: 0.9833\n",
            "Epoch 32/50\n",
            "891/891 [==============================] - 5s 5ms/step - loss: 0.0072 - accuracy: 0.9979 - val_loss: 0.1250 - val_accuracy: 0.9867\n",
            "Epoch 33/50\n",
            "891/891 [==============================] - 4s 5ms/step - loss: 0.0068 - accuracy: 0.9981 - val_loss: 0.1036 - val_accuracy: 0.9847\n",
            "Epoch 34/50\n",
            "891/891 [==============================] - 6s 6ms/step - loss: 0.0068 - accuracy: 0.9980 - val_loss: 0.1527 - val_accuracy: 0.9853\n",
            "Epoch 35/50\n",
            "891/891 [==============================] - 5s 6ms/step - loss: 0.0052 - accuracy: 0.9985 - val_loss: 0.1656 - val_accuracy: 0.9873\n",
            "Epoch 36/50\n",
            "891/891 [==============================] - 5s 5ms/step - loss: 0.0050 - accuracy: 0.9985 - val_loss: 0.1709 - val_accuracy: 0.9847\n",
            "Epoch 37/50\n",
            "891/891 [==============================] - 5s 6ms/step - loss: 0.0048 - accuracy: 0.9982 - val_loss: 0.1217 - val_accuracy: 0.9893\n",
            "Epoch 38/50\n",
            "891/891 [==============================] - 4s 5ms/step - loss: 0.0045 - accuracy: 0.9986 - val_loss: 0.1426 - val_accuracy: 0.9847\n",
            "Epoch 39/50\n",
            "891/891 [==============================] - 4s 5ms/step - loss: 0.0071 - accuracy: 0.9979 - val_loss: 0.1470 - val_accuracy: 0.9840\n",
            "Epoch 40/50\n",
            "891/891 [==============================] - 5s 6ms/step - loss: 0.0032 - accuracy: 0.9988 - val_loss: 0.1492 - val_accuracy: 0.9880\n",
            "Epoch 41/50\n",
            "891/891 [==============================] - 4s 5ms/step - loss: 0.0075 - accuracy: 0.9982 - val_loss: 0.1123 - val_accuracy: 0.9887\n",
            "Epoch 42/50\n",
            "891/891 [==============================] - 4s 5ms/step - loss: 0.0030 - accuracy: 0.9992 - val_loss: 0.1425 - val_accuracy: 0.9887\n",
            "Epoch 43/50\n",
            "891/891 [==============================] - 5s 5ms/step - loss: 0.0051 - accuracy: 0.9985 - val_loss: 0.2050 - val_accuracy: 0.9827\n",
            "Epoch 44/50\n",
            "891/891 [==============================] - 4s 5ms/step - loss: 0.0059 - accuracy: 0.9979 - val_loss: 0.1693 - val_accuracy: 0.9853\n",
            "Epoch 45/50\n",
            "891/891 [==============================] - 4s 5ms/step - loss: 0.0023 - accuracy: 0.9995 - val_loss: 0.1513 - val_accuracy: 0.9873\n",
            "Epoch 46/50\n",
            "891/891 [==============================] - 5s 6ms/step - loss: 0.0022 - accuracy: 0.9993 - val_loss: 0.1790 - val_accuracy: 0.9827\n",
            "Epoch 47/50\n",
            "891/891 [==============================] - 4s 5ms/step - loss: 0.0083 - accuracy: 0.9979 - val_loss: 0.1682 - val_accuracy: 0.9853\n",
            "Epoch 48/50\n",
            "891/891 [==============================] - 4s 5ms/step - loss: 0.0049 - accuracy: 0.9985 - val_loss: 0.1650 - val_accuracy: 0.9860\n",
            "Epoch 49/50\n",
            "891/891 [==============================] - 5s 6ms/step - loss: 5.9312e-04 - accuracy: 0.9998 - val_loss: 0.1631 - val_accuracy: 0.9873\n",
            "Epoch 50/50\n",
            "891/891 [==============================] - 4s 4ms/step - loss: 0.0097 - accuracy: 0.9979 - val_loss: 0.2121 - val_accuracy: 0.9887\n"
          ]
        }
      ]
    },
    {
      "cell_type": "markdown",
      "source": [
        "save model and weights"
      ],
      "metadata": {
        "id": "bU8C0Uctqd3n"
      }
    },
    {
      "cell_type": "code",
      "source": [
        "model_json = model.to_json()\n",
        "with open('drive/MyDrive/robotic_model.json', 'w') as json_file:\n",
        "  json_file.write(model_json)\n",
        "\n",
        "model.save_weights('drive/MyDrive/robotic_weights.h5')"
      ],
      "metadata": {
        "id": "oDsxnZCaqVxh"
      },
      "execution_count": 28,
      "outputs": []
    },
    {
      "cell_type": "markdown",
      "source": [
        "load model and weights"
      ],
      "metadata": {
        "id": "DZPjrfObqifY"
      }
    },
    {
      "cell_type": "code",
      "source": [
        "from tensorflow.keras.models import model_from_json\n",
        "\n",
        "json_model = open('drive/MyDrive/robotic_model.json', 'r')\n",
        "loaded_json_model = json_model.read()\n",
        "json_model.close()\n",
        "loaded_model = model_from_json(loaded_json_model)\n",
        "loaded_model.load_weights('drive/MyDrive/robotic_weights.h5')"
      ],
      "metadata": {
        "id": "88OUioIPqkRO"
      },
      "execution_count": 29,
      "outputs": []
    },
    {
      "cell_type": "code",
      "source": [
        "loaded_model.compile(optimizer='adam', loss='categorical_crossentropy', metrics=['accuracy'])"
      ],
      "metadata": {
        "id": "VRPUr2_irN2B"
      },
      "execution_count": 30,
      "outputs": []
    },
    {
      "cell_type": "code",
      "source": [
        "_, score = loaded_model.evaluate(test_x, test_y, verbose=0)\n",
        "score"
      ],
      "metadata": {
        "colab": {
          "base_uri": "https://localhost:8080/"
        },
        "id": "TmqL-I63rTJx",
        "outputId": "e6900d92-2d8e-443f-a90b-e4b60ebc5f07"
      },
      "execution_count": 32,
      "outputs": [
        {
          "output_type": "execute_result",
          "data": {
            "text/plain": [
              "0.982200026512146"
            ]
          },
          "metadata": {},
          "execution_count": 32
        }
      ]
    }
  ]
}